{
 "cells": [
  {
   "cell_type": "code",
   "execution_count": 1,
   "metadata": {},
   "outputs": [],
   "source": [
    "import re\n",
    "def preprocess_code_line(code, remove_python_common_tokens=False):\n",
    "    code = code.replace('(', ' ').replace(')', ' ').replace('{', ' ').replace('}', ' ').replace('[', ' ').replace(']',\n",
    "                                                                                                                  ' ').replace(\n",
    "        '.', ' ').replace(':', ' ').replace(';', ' ').replace(',', ' ').replace(' _ ', '_')\n",
    "\n",
    "    code = re.sub('``.*``', '<STR>', code)\n",
    "    code = re.sub(\"'.*'\", '<STR>', code)\n",
    "    code = re.sub('\".*\"', '<STR>', code)\n",
    "    code = re.sub('\\d+', '<NUM>', code)\n",
    "\n",
    "    code = code.split()\n",
    "    code = ' '.join(code)\n",
    "    if remove_python_common_tokens:\n",
    "        new_code = ''\n",
    "        python_common_tokens = []\n",
    "        for tok in code.split():\n",
    "            if tok not in [python_common_tokens]:\n",
    "                new_code = new_code + tok + ' '\n",
    "\n",
    "        return new_code.strip()\n",
    "\n",
    "    else:\n",
    "        return code.strip()"
   ]
  },
  {
   "cell_type": "code",
   "execution_count": 2,
   "metadata": {},
   "outputs": [],
   "source": [
    "def hunk_empty(hunk):\n",
    "    if hunk.strip() == '':\n",
    "        return True\n",
    "\n",
    "def get_hunk_from_diff(diff):\n",
    "    hunk_list = []\n",
    "    hunk = ''\n",
    "    for line in diff.splitlines():\n",
    "        if line.startswith(('+', '-')): \n",
    "            hunk += line.strip() + '\\n'\n",
    "        else:\n",
    "            if not hunk_empty(hunk): # finish a hunk \n",
    "                hunk = hunk [:-1]\n",
    "                hunk_list.append(hunk)\n",
    "                hunk = ''\n",
    "\n",
    "    if not hunk_empty(hunk): \n",
    "        hunk_list.append(hunk)\n",
    "    \n",
    "    return hunk_list\n"
   ]
  },
  {
   "cell_type": "code",
   "execution_count": 4,
   "metadata": {},
   "outputs": [],
   "source": [
    "import pandas as pd \n",
    "df = pd.read_csv('codejit_time_suffer.csv',low_memory=False)"
   ]
  },
  {
   "cell_type": "code",
   "execution_count": 11,
   "metadata": {},
   "outputs": [
    {
     "data": {
      "text/plain": [
       "20274"
      ]
     },
     "execution_count": 11,
     "metadata": {},
     "output_type": "execute_result"
    }
   ],
   "source": [
    "cms = set(df['commit_id'])\n",
    "len(cms)"
   ]
  },
  {
   "cell_type": "code",
   "execution_count": 25,
   "metadata": {},
   "outputs": [],
   "source": [
    "hunk_map = dict()\n",
    "for cm in cms:\n",
    "    tmp_df = df[df['commit_id']==cm]\n",
    "    hunks_cm = list()\n",
    "    for _, row in tmp_df.iterrows():\n",
    "        diff = row['diff']\n",
    "        hunks = get_hunk_from_diff(diff)\n",
    "        for hunk in hunks:\n",
    "            hunk_tokens = list()\n",
    "            for line in hunk.splitlines():\n",
    "                if line.startswith('+'):\n",
    "                    hunk_tokens += [\"ADD\"]\n",
    "                if line.startswith('-'):\n",
    "                    hunk_tokens += [\"DEL\"]\n",
    "                line = preprocess_code_line(line[1:])\n",
    "                hunk_tokens += line.split()\n",
    "            hunks_cm.append(' '.join(hunk_tokens))\n",
    "    hunk_map[cm] = hunks_cm"
   ]
  },
  {
   "cell_type": "code",
   "execution_count": 26,
   "metadata": {},
   "outputs": [
    {
     "data": {
      "text/plain": [
       "['DEL if ret = ff_alloc_packet<NUM> avctx pkt mb_width*mb_height*MAX_MB_BYTES + FF_MIN_BUFFER_SIZE < <NUM> ADD if ret = ff_alloc_packet<NUM> avctx pkt mb_width* int<NUM>_t mb_height*MAX_MB_BYTES + FF_MIN_BUFFER_SIZE < <NUM>']"
      ]
     },
     "execution_count": 26,
     "metadata": {},
     "output_type": "execute_result"
    }
   ],
   "source": [
    "hunk_map['e00499eb4c80752b2c464f3a98bf0b6ce7b1e212']\n",
    "import pickle \n",
    "pickle.dump(hunk_map,open('hunk_map.pkl','wb'))"
   ]
  },
  {
   "cell_type": "code",
   "execution_count": 27,
   "metadata": {},
   "outputs": [],
   "source": [
    "import pickle \n",
    "pickle.dump(hunk_map,open('hunk_map.pkl','wb'))"
   ]
  },
  {
   "cell_type": "code",
   "execution_count": 16,
   "metadata": {},
   "outputs": [],
   "source": [
    "ll = [len(v) for k,v in hunk_map.items()]"
   ]
  },
  {
   "cell_type": "code",
   "execution_count": 17,
   "metadata": {},
   "outputs": [
    {
     "data": {
      "text/plain": [
       "5699"
      ]
     },
     "execution_count": 17,
     "metadata": {},
     "output_type": "execute_result"
    }
   ],
   "source": [
    "max(ll)"
   ]
  },
  {
   "cell_type": "code",
   "execution_count": 18,
   "metadata": {},
   "outputs": [
    {
     "data": {
      "text/plain": [
       "1"
      ]
     },
     "execution_count": 18,
     "metadata": {},
     "output_type": "execute_result"
    }
   ],
   "source": [
    "min(ll)"
   ]
  },
  {
   "cell_type": "code",
   "execution_count": 20,
   "metadata": {},
   "outputs": [
    {
     "data": {
      "text/plain": [
       "14.58833974548683"
      ]
     },
     "execution_count": 20,
     "metadata": {},
     "output_type": "execute_result"
    }
   ],
   "source": [
    "sum(ll)/len(ll)"
   ]
  },
  {
   "cell_type": "code",
   "execution_count": 30,
   "metadata": {},
   "outputs": [],
   "source": [
    "hunk_map_sep = dict()\n",
    "for cm in cms:\n",
    "    tmp_df = df[df['commit_id']==cm]\n",
    "    hunks_cm = list()\n",
    "    for _, row in tmp_df.iterrows():\n",
    "        diff = row['diff']\n",
    "        hunks = get_hunk_from_diff(diff)\n",
    "        for hunk in hunks:\n",
    "            hunk_tokens = list()\n",
    "            hunk_tokens += [\"ADD\"]\n",
    "            for line in hunk.splitlines():\n",
    "                if line.startswith('-'):\n",
    "                    continue\n",
    "                line = preprocess_code_line(line[1:])\n",
    "                hunk_tokens += line.split()\n",
    "            hunk_tokens += [\"DEL\"]\n",
    "            for line in hunk.splitlines():\n",
    "                if line.startswith('+'):\n",
    "                    continue\n",
    "                line = preprocess_code_line(line[1:])\n",
    "                hunk_tokens += line.split()\n",
    "            hunks_cm.append(' '.join(hunk_tokens))\n",
    "    hunk_map_sep[cm] = hunks_cm"
   ]
  },
  {
   "cell_type": "code",
   "execution_count": null,
   "metadata": {},
   "outputs": [],
   "source": [
    "import pickle \n",
    "pickle.dump(hunk_map_sep,open('hunk_map_sep.pkl','wb'))"
   ]
  },
  {
   "cell_type": "code",
   "execution_count": 31,
   "metadata": {},
   "outputs": [
    {
     "data": {
      "text/plain": [
       "['ADD if ret = ff_alloc_packet<NUM> avctx pkt mb_width* int<NUM>_t mb_height*MAX_MB_BYTES + FF_MIN_BUFFER_SIZE < <NUM> DEL if ret = ff_alloc_packet<NUM> avctx pkt mb_width*mb_height*MAX_MB_BYTES + FF_MIN_BUFFER_SIZE < <NUM>']"
      ]
     },
     "execution_count": 31,
     "metadata": {},
     "output_type": "execute_result"
    }
   ],
   "source": [
    "hunk_map_sep['e00499eb4c80752b2c464f3a98bf0b6ce7b1e212']\n"
   ]
  }
 ],
 "metadata": {
  "kernelspec": {
   "display_name": "env",
   "language": "python",
   "name": "python3"
  },
  "language_info": {
   "codemirror_mode": {
    "name": "ipython",
    "version": 3
   },
   "file_extension": ".py",
   "mimetype": "text/x-python",
   "name": "python",
   "nbconvert_exporter": "python",
   "pygments_lexer": "ipython3",
   "version": "3.7.17"
  },
  "orig_nbformat": 4
 },
 "nbformat": 4,
 "nbformat_minor": 2
}
