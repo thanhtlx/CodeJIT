{
 "cells": [
  {
   "cell_type": "code",
   "execution_count": 1,
   "metadata": {},
   "outputs": [
    {
     "name": "stdout",
     "output_type": "stream",
     "text": [
      "Traceback (most recent call last):\n",
      "  File \"c:\\Users\\Thinkbook\\AppData\\Local\\Programs\\Python\\Python38\\lib\\runpy.py\", line 194, in _run_module_as_main\n",
      "    return _run_code(code, main_globals, None,\n",
      "  File \"c:\\Users\\Thinkbook\\AppData\\Local\\Programs\\Python\\Python38\\lib\\runpy.py\", line 87, in _run_code\n",
      "    exec(code, run_globals)\n",
      "  File \"d:\\JIT-Vul Replication\\JIT-Vul-Replication\\baselines\\JITFine\\concat\\run.py\", line 14, in <module>\n",
      "    import torch\n",
      "ModuleNotFoundError: No module named 'torch'\n",
      "CPU times: total: 0 ns\n",
      "Wall time: 789 ms\n"
     ]
    },
    {
     "name": "stderr",
     "output_type": "stream",
     "text": [
      "tee: model/jitfine/train.log: No such file or directory\n"
     ]
    }
   ],
   "source": [
    "%%time\n",
    "!python -m baselines.JITFine.concat.run \\\n",
    "    --output_dir=model/jitfine/checkpoints \\\n",
    "    --config_name=microsoft/codebert-base \\\n",
    "    --model_name_or_path=microsoft/codebert-base \\\n",
    "    --tokenizer_name=microsoft/codebert-base \\\n",
    "    --do_train \\\n",
    "    --train_data_file data/jitfine/cross_project/changes_train.pkl data/jitfine/cross_project/features_train.pkl \\\n",
    "    --eval_data_file data/jitfine/cross_project/changes_valid.pkl data/jitfine/cross_project/features_valid.pkl \\\n",
    "    --test_data_file data/jitfine/cross_project/changes_test.pkl data/jitfine/cross_project/features_test.pkl \\\n",
    "    --epoch 50 \\\n",
    "    --max_seq_length 512 \\\n",
    "    --max_msg_length 64 \\\n",
    "    --train_batch_size 24 \\\n",
    "    --eval_batch_size 128 \\\n",
    "    --learning_rate 1e-5 \\\n",
    "    --max_grad_norm 1.0 \\\n",
    "    --evaluate_during_training \\\n",
    "    --feature_size 14 \\\n",
    "    --patience 10 \\\n",
    "    --seed 42 2>&1#| tee model/jitfine/train.log"
   ]
  },
  {
   "cell_type": "code",
   "execution_count": 1,
   "metadata": {},
   "outputs": [],
   "source": [
    "import pickle\n",
    "\n",
    "tmp =pickle.load(open('data/la/by_time/features_test.pkl','rb'))"
   ]
  },
  {
   "cell_type": "code",
   "execution_count": 2,
   "metadata": {},
   "outputs": [
    {
     "data": {
      "text/html": [
       "<div>\n",
       "<style scoped>\n",
       "    .dataframe tbody tr th:only-of-type {\n",
       "        vertical-align: middle;\n",
       "    }\n",
       "\n",
       "    .dataframe tbody tr th {\n",
       "        vertical-align: top;\n",
       "    }\n",
       "\n",
       "    .dataframe thead th {\n",
       "        text-align: right;\n",
       "    }\n",
       "</style>\n",
       "<table border=\"1\" class=\"dataframe\">\n",
       "  <thead>\n",
       "    <tr style=\"text-align: right;\">\n",
       "      <th></th>\n",
       "      <th>commit_hash</th>\n",
       "      <th>is_buggy_commit</th>\n",
       "      <th>la</th>\n",
       "      <th>ld</th>\n",
       "    </tr>\n",
       "  </thead>\n",
       "  <tbody>\n",
       "    <tr>\n",
       "      <th>0</th>\n",
       "      <td>def74c0cf05722b2e502d4b4f1219966c5b0cbd3</td>\n",
       "      <td>0</td>\n",
       "      <td>12</td>\n",
       "      <td>4</td>\n",
       "    </tr>\n",
       "    <tr>\n",
       "      <th>1</th>\n",
       "      <td>c0a3172fa6bbddcc73192f2a2c48d0bf3a7ba61c</td>\n",
       "      <td>0</td>\n",
       "      <td>1</td>\n",
       "      <td>1</td>\n",
       "    </tr>\n",
       "    <tr>\n",
       "      <th>2</th>\n",
       "      <td>c627e7526a902dd5bb1907dbbd5cf961679dfa68</td>\n",
       "      <td>0</td>\n",
       "      <td>29</td>\n",
       "      <td>94</td>\n",
       "    </tr>\n",
       "    <tr>\n",
       "      <th>3</th>\n",
       "      <td>43ac65742319ef5ac4461daf43316b189cd21e89</td>\n",
       "      <td>1</td>\n",
       "      <td>4</td>\n",
       "      <td>2</td>\n",
       "    </tr>\n",
       "    <tr>\n",
       "      <th>4</th>\n",
       "      <td>3d54026fb06d1aea7ebb4e9825970b06bebcacac</td>\n",
       "      <td>0</td>\n",
       "      <td>11</td>\n",
       "      <td>0</td>\n",
       "    </tr>\n",
       "    <tr>\n",
       "      <th>...</th>\n",
       "      <td>...</td>\n",
       "      <td>...</td>\n",
       "      <td>...</td>\n",
       "      <td>...</td>\n",
       "    </tr>\n",
       "    <tr>\n",
       "      <th>4050</th>\n",
       "      <td>faa75edde3dfeba1e2cf6ffa48e45a50f1042096</td>\n",
       "      <td>0</td>\n",
       "      <td>1</td>\n",
       "      <td>0</td>\n",
       "    </tr>\n",
       "    <tr>\n",
       "      <th>4051</th>\n",
       "      <td>8f21ad79b0cd98fc22d5b49734543101946abbff</td>\n",
       "      <td>0</td>\n",
       "      <td>8</td>\n",
       "      <td>0</td>\n",
       "    </tr>\n",
       "    <tr>\n",
       "      <th>4052</th>\n",
       "      <td>0102c5d4db7fdbf08b5b591b2a6264de33867a07</td>\n",
       "      <td>0</td>\n",
       "      <td>12</td>\n",
       "      <td>16</td>\n",
       "    </tr>\n",
       "    <tr>\n",
       "      <th>4053</th>\n",
       "      <td>68761851b595e96c68c3f46bfc21167e72c6a22c</td>\n",
       "      <td>0</td>\n",
       "      <td>117</td>\n",
       "      <td>112</td>\n",
       "    </tr>\n",
       "    <tr>\n",
       "      <th>4054</th>\n",
       "      <td>e4cd225557486c420f6a34411f98c575effd43dd</td>\n",
       "      <td>0</td>\n",
       "      <td>2</td>\n",
       "      <td>2</td>\n",
       "    </tr>\n",
       "  </tbody>\n",
       "</table>\n",
       "<p>4055 rows × 4 columns</p>\n",
       "</div>"
      ],
      "text/plain": [
       "                                   commit_hash is_buggy_commit   la   ld\n",
       "0     def74c0cf05722b2e502d4b4f1219966c5b0cbd3               0   12    4\n",
       "1     c0a3172fa6bbddcc73192f2a2c48d0bf3a7ba61c               0    1    1\n",
       "2     c627e7526a902dd5bb1907dbbd5cf961679dfa68               0   29   94\n",
       "3     43ac65742319ef5ac4461daf43316b189cd21e89               1    4    2\n",
       "4     3d54026fb06d1aea7ebb4e9825970b06bebcacac               0   11    0\n",
       "...                                        ...             ...  ...  ...\n",
       "4050  faa75edde3dfeba1e2cf6ffa48e45a50f1042096               0    1    0\n",
       "4051  8f21ad79b0cd98fc22d5b49734543101946abbff               0    8    0\n",
       "4052  0102c5d4db7fdbf08b5b591b2a6264de33867a07               0   12   16\n",
       "4053  68761851b595e96c68c3f46bfc21167e72c6a22c               0  117  112\n",
       "4054  e4cd225557486c420f6a34411f98c575effd43dd               0    2    2\n",
       "\n",
       "[4055 rows x 4 columns]"
      ]
     },
     "execution_count": 2,
     "metadata": {},
     "output_type": "execute_result"
    }
   ],
   "source": [
    "tmp"
   ]
  },
  {
   "cell_type": "code",
   "execution_count": 4,
   "metadata": {},
   "outputs": [],
   "source": [
    "import pickle5 as pickle\n",
    "f = 'data/la/cross_project/features_train.pkl'\n",
    "x  = pickle.load(open(f,'rb'))\n",
    "x = x [['commit_hash',\t'is_buggy_commit',\t'la',\t'ld']]\n",
    "x.to_pickle(f,protocol=4)"
   ]
  },
  {
   "cell_type": "code",
   "execution_count": 5,
   "metadata": {},
   "outputs": [
    {
     "data": {
      "text/plain": [
       "0    21193\n",
       "1     9176\n",
       "Name: is_buggy_commit, dtype: int64"
      ]
     },
     "execution_count": 5,
     "metadata": {},
     "output_type": "execute_result"
    }
   ],
   "source": [
    "import pandas as pd \n",
    "df = pd.read_pickle(f)\n",
    "df['is_buggy_commit'].value_counts()"
   ]
  },
  {
   "cell_type": "code",
   "execution_count": 6,
   "metadata": {},
   "outputs": [
    {
     "data": {
      "text/html": [
       "<div>\n",
       "<style scoped>\n",
       "    .dataframe tbody tr th:only-of-type {\n",
       "        vertical-align: middle;\n",
       "    }\n",
       "\n",
       "    .dataframe tbody tr th {\n",
       "        vertical-align: top;\n",
       "    }\n",
       "\n",
       "    .dataframe thead th {\n",
       "        text-align: right;\n",
       "    }\n",
       "</style>\n",
       "<table border=\"1\" class=\"dataframe\">\n",
       "  <thead>\n",
       "    <tr style=\"text-align: right;\">\n",
       "      <th></th>\n",
       "      <th>commit_hash</th>\n",
       "      <th>is_buggy_commit</th>\n",
       "      <th>la</th>\n",
       "      <th>ld</th>\n",
       "    </tr>\n",
       "  </thead>\n",
       "  <tbody>\n",
       "    <tr>\n",
       "      <th>0</th>\n",
       "      <td>9dccb1216bf9d120579612979f4d58fd97bf0150</td>\n",
       "      <td>0</td>\n",
       "      <td>15</td>\n",
       "      <td>1</td>\n",
       "    </tr>\n",
       "    <tr>\n",
       "      <th>1</th>\n",
       "      <td>e76709d8a66cbc3f541ec79d482862a2c3100d5a</td>\n",
       "      <td>0</td>\n",
       "      <td>683</td>\n",
       "      <td>2</td>\n",
       "    </tr>\n",
       "    <tr>\n",
       "      <th>2</th>\n",
       "      <td>bfe6631e7ab944c0d6275c6f8546c2c925e738d0</td>\n",
       "      <td>0</td>\n",
       "      <td>939</td>\n",
       "      <td>69</td>\n",
       "    </tr>\n",
       "    <tr>\n",
       "      <th>4</th>\n",
       "      <td>41dba453f9d164d1aebfea255686e5d267ac118a</td>\n",
       "      <td>1</td>\n",
       "      <td>1</td>\n",
       "      <td>1</td>\n",
       "    </tr>\n",
       "    <tr>\n",
       "      <th>5</th>\n",
       "      <td>defe37a6d41ea1cc24570a86a80d218f2ee35de4</td>\n",
       "      <td>0</td>\n",
       "      <td>92</td>\n",
       "      <td>28</td>\n",
       "    </tr>\n",
       "    <tr>\n",
       "      <th>...</th>\n",
       "      <td>...</td>\n",
       "      <td>...</td>\n",
       "      <td>...</td>\n",
       "      <td>...</td>\n",
       "    </tr>\n",
       "    <tr>\n",
       "      <th>36365</th>\n",
       "      <td>0e603df1ba7c749288b5df41f21f30b8c9bad906</td>\n",
       "      <td>0</td>\n",
       "      <td>26</td>\n",
       "      <td>4</td>\n",
       "    </tr>\n",
       "    <tr>\n",
       "      <th>36366</th>\n",
       "      <td>620633ec8b6d9154d0083bb252f80709ea6a0314</td>\n",
       "      <td>0</td>\n",
       "      <td>5</td>\n",
       "      <td>5</td>\n",
       "    </tr>\n",
       "    <tr>\n",
       "      <th>36367</th>\n",
       "      <td>b061dc41f62048acd4a34c6570c0ea396cd9d0b4</td>\n",
       "      <td>1</td>\n",
       "      <td>21</td>\n",
       "      <td>11</td>\n",
       "    </tr>\n",
       "    <tr>\n",
       "      <th>36368</th>\n",
       "      <td>8d116606bdae3197a1f5590ad4e8d7b07d1063f8</td>\n",
       "      <td>0</td>\n",
       "      <td>23</td>\n",
       "      <td>21</td>\n",
       "    </tr>\n",
       "    <tr>\n",
       "      <th>36369</th>\n",
       "      <td>6d4deecfdf0fe18d1a4b06aac49cabcdb9a25d3c</td>\n",
       "      <td>0</td>\n",
       "      <td>2</td>\n",
       "      <td>2</td>\n",
       "    </tr>\n",
       "  </tbody>\n",
       "</table>\n",
       "<p>30369 rows × 4 columns</p>\n",
       "</div>"
      ],
      "text/plain": [
       "                                    commit_hash  is_buggy_commit   la  ld\n",
       "0      9dccb1216bf9d120579612979f4d58fd97bf0150                0   15   1\n",
       "1      e76709d8a66cbc3f541ec79d482862a2c3100d5a                0  683   2\n",
       "2      bfe6631e7ab944c0d6275c6f8546c2c925e738d0                0  939  69\n",
       "4      41dba453f9d164d1aebfea255686e5d267ac118a                1    1   1\n",
       "5      defe37a6d41ea1cc24570a86a80d218f2ee35de4                0   92  28\n",
       "...                                         ...              ...  ...  ..\n",
       "36365  0e603df1ba7c749288b5df41f21f30b8c9bad906                0   26   4\n",
       "36366  620633ec8b6d9154d0083bb252f80709ea6a0314                0    5   5\n",
       "36367  b061dc41f62048acd4a34c6570c0ea396cd9d0b4                1   21  11\n",
       "36368  8d116606bdae3197a1f5590ad4e8d7b07d1063f8                0   23  21\n",
       "36369  6d4deecfdf0fe18d1a4b06aac49cabcdb9a25d3c                0    2   2\n",
       "\n",
       "[30369 rows x 4 columns]"
      ]
     },
     "execution_count": 6,
     "metadata": {},
     "output_type": "execute_result"
    }
   ],
   "source": [
    "df"
   ]
  },
  {
   "cell_type": "code",
   "execution_count": 18,
   "metadata": {},
   "outputs": [],
   "source": [
    "import pandas as pd"
   ]
  },
  {
   "cell_type": "code",
   "execution_count": 19,
   "metadata": {},
   "outputs": [
    {
     "data": {
      "text/html": [
       "<div>\n",
       "<style scoped>\n",
       "    .dataframe tbody tr th:only-of-type {\n",
       "        vertical-align: middle;\n",
       "    }\n",
       "\n",
       "    .dataframe tbody tr th {\n",
       "        vertical-align: top;\n",
       "    }\n",
       "\n",
       "    .dataframe thead th {\n",
       "        text-align: right;\n",
       "    }\n",
       "</style>\n",
       "<table border=\"1\" class=\"dataframe\">\n",
       "  <thead>\n",
       "    <tr style=\"text-align: right;\">\n",
       "      <th></th>\n",
       "      <th>commit_hash</th>\n",
       "      <th>is_buggy_commit</th>\n",
       "      <th>la</th>\n",
       "      <th>ld</th>\n",
       "    </tr>\n",
       "  </thead>\n",
       "  <tbody>\n",
       "    <tr>\n",
       "      <th>0</th>\n",
       "      <td>a351091921c8b7d73a7193eaa56933f16c5dfb7f</td>\n",
       "      <td>1</td>\n",
       "      <td>129</td>\n",
       "      <td>98</td>\n",
       "    </tr>\n",
       "  </tbody>\n",
       "</table>\n",
       "</div>"
      ],
      "text/plain": [
       "                                commit_hash is_buggy_commit   la  ld\n",
       "0  a351091921c8b7d73a7193eaa56933f16c5dfb7f               1  129  98"
      ]
     },
     "execution_count": 19,
     "metadata": {},
     "output_type": "execute_result"
    }
   ],
   "source": [
    "dft.head(1)"
   ]
  },
  {
   "cell_type": "code",
   "execution_count": 20,
   "metadata": {},
   "outputs": [
    {
     "data": {
      "text/html": [
       "<div>\n",
       "<style scoped>\n",
       "    .dataframe tbody tr th:only-of-type {\n",
       "        vertical-align: middle;\n",
       "    }\n",
       "\n",
       "    .dataframe tbody tr th {\n",
       "        vertical-align: top;\n",
       "    }\n",
       "\n",
       "    .dataframe thead th {\n",
       "        text-align: right;\n",
       "    }\n",
       "</style>\n",
       "<table border=\"1\" class=\"dataframe\">\n",
       "  <thead>\n",
       "    <tr style=\"text-align: right;\">\n",
       "      <th></th>\n",
       "      <th>commit_hash</th>\n",
       "      <th>is_buggy_commit</th>\n",
       "      <th>la</th>\n",
       "      <th>ld</th>\n",
       "    </tr>\n",
       "  </thead>\n",
       "  <tbody>\n",
       "    <tr>\n",
       "      <th>0</th>\n",
       "      <td>9dccb1216bf9d120579612979f4d58fd97bf0150</td>\n",
       "      <td>0</td>\n",
       "      <td>15</td>\n",
       "      <td>1</td>\n",
       "    </tr>\n",
       "  </tbody>\n",
       "</table>\n",
       "</div>"
      ],
      "text/plain": [
       "                                commit_hash  is_buggy_commit  la  ld\n",
       "0  9dccb1216bf9d120579612979f4d58fd97bf0150                0  15   1"
      ]
     },
     "execution_count": 20,
     "metadata": {},
     "output_type": "execute_result"
    }
   ],
   "source": [
    "df.head(1)"
   ]
  },
  {
   "cell_type": "code",
   "execution_count": 29,
   "metadata": {},
   "outputs": [],
   "source": [
    "df  = pd.read_pickle(f)\n",
    "ff= 'data/la/test/features_test.pkl'\n",
    "dft = pd.read_pickle(ff)\n",
    "dft['commit_hash'] = df['commit_hash']\n",
    "\n",
    "dft['is_buggy_commit'] = df['is_buggy_commit']\n",
    "dft['la'] = df['la']\n",
    "dft['ld'] = df['ld']\n",
    "dft.to_pickle(ff,protocol=4)"
   ]
  },
  {
   "cell_type": "code",
   "execution_count": 33,
   "metadata": {},
   "outputs": [
    {
     "data": {
      "text/plain": [
       "24983"
      ]
     },
     "execution_count": 33,
     "metadata": {},
     "output_type": "execute_result"
    }
   ],
   "source": [
    "max(df['la'])"
   ]
  },
  {
   "cell_type": "code",
   "execution_count": 34,
   "metadata": {},
   "outputs": [
    {
     "data": {
      "text/html": [
       "<div>\n",
       "<style scoped>\n",
       "    .dataframe tbody tr th:only-of-type {\n",
       "        vertical-align: middle;\n",
       "    }\n",
       "\n",
       "    .dataframe tbody tr th {\n",
       "        vertical-align: top;\n",
       "    }\n",
       "\n",
       "    .dataframe thead th {\n",
       "        text-align: right;\n",
       "    }\n",
       "</style>\n",
       "<table border=\"1\" class=\"dataframe\">\n",
       "  <thead>\n",
       "    <tr style=\"text-align: right;\">\n",
       "      <th></th>\n",
       "      <th>Unnamed: 0</th>\n",
       "      <th>commit_hash</th>\n",
       "      <th>is_buggy_commit</th>\n",
       "      <th>la</th>\n",
       "      <th>ld</th>\n",
       "    </tr>\n",
       "  </thead>\n",
       "  <tbody>\n",
       "    <tr>\n",
       "      <th>21502</th>\n",
       "      <td>21502</td>\n",
       "      <td>be663ab67077fac8e23eb8e231a8c1c94cb32e54</td>\n",
       "      <td>0</td>\n",
       "      <td>24983</td>\n",
       "      <td>1829</td>\n",
       "    </tr>\n",
       "  </tbody>\n",
       "</table>\n",
       "</div>"
      ],
      "text/plain": [
       "       Unnamed: 0                               commit_hash  is_buggy_commit  \\\n",
       "21502       21502  be663ab67077fac8e23eb8e231a8c1c94cb32e54                0   \n",
       "\n",
       "          la    ld  \n",
       "21502  24983  1829  "
      ]
     },
     "execution_count": 34,
     "metadata": {},
     "output_type": "execute_result"
    }
   ],
   "source": [
    "df[df['la']==24983]"
   ]
  },
  {
   "cell_type": "code",
   "execution_count": 35,
   "metadata": {},
   "outputs": [
    {
     "name": "stdout",
     "output_type": "stream",
     "text": [
      "0b99d58902dd82fa51216eb8e0d6ddd8c43e90e4\n",
      "75388acd0cd827dc1498043daa7d1c760902cd67\n",
      "be663ab67077fac8e23eb8e231a8c1c94cb32e54\n",
      "3306cfee3bf38ab207a0504e49c2d492bb73ffbf\n",
      "6e486cdce1b3d5c5116cfe415eee52c2de6c8445\n",
      "1650e3acb977f5c611cabc6d5a45a823f4cb459c\n",
      "d248bbd940014d5ef98c97e4733022275e087901\n"
     ]
    }
   ],
   "source": [
    "for _,row in df.iterrows():\n",
    "    if row['la'] >10000:\n",
    "        print(row['commit_hash'])"
   ]
  },
  {
   "cell_type": "code",
   "execution_count": 66,
   "metadata": {},
   "outputs": [
    {
     "data": {
      "text/html": [
       "<div>\n",
       "<style scoped>\n",
       "    .dataframe tbody tr th:only-of-type {\n",
       "        vertical-align: middle;\n",
       "    }\n",
       "\n",
       "    .dataframe tbody tr th {\n",
       "        vertical-align: top;\n",
       "    }\n",
       "\n",
       "    .dataframe thead th {\n",
       "        text-align: right;\n",
       "    }\n",
       "</style>\n",
       "<table border=\"1\" class=\"dataframe\">\n",
       "  <thead>\n",
       "    <tr style=\"text-align: right;\">\n",
       "      <th></th>\n",
       "      <th>Unnamed: 0</th>\n",
       "      <th>commit_hash</th>\n",
       "      <th>is_buggy_commit</th>\n",
       "      <th>la</th>\n",
       "      <th>ld</th>\n",
       "    </tr>\n",
       "  </thead>\n",
       "  <tbody>\n",
       "    <tr>\n",
       "      <th>6074</th>\n",
       "      <td>6074</td>\n",
       "      <td>cb31827d62066a04b02111df3052949fda4b6888</td>\n",
       "      <td>1</td>\n",
       "      <td>6</td>\n",
       "      <td>0</td>\n",
       "    </tr>\n",
       "    <tr>\n",
       "      <th>31232</th>\n",
       "      <td>31232</td>\n",
       "      <td>3037f36446eb3556c14757ac468463c3902f331b</td>\n",
       "      <td>1</td>\n",
       "      <td>49</td>\n",
       "      <td>0</td>\n",
       "    </tr>\n",
       "    <tr>\n",
       "      <th>5242</th>\n",
       "      <td>5242</td>\n",
       "      <td>7c97946d6131b31340954a3f603b6bf92590a9a5</td>\n",
       "      <td>0</td>\n",
       "      <td>14</td>\n",
       "      <td>4</td>\n",
       "    </tr>\n",
       "    <tr>\n",
       "      <th>8613</th>\n",
       "      <td>8613</td>\n",
       "      <td>b2984add8077ecc9d3cdf0d9294fb323f2001511</td>\n",
       "      <td>0</td>\n",
       "      <td>19</td>\n",
       "      <td>3</td>\n",
       "    </tr>\n",
       "    <tr>\n",
       "      <th>30056</th>\n",
       "      <td>30056</td>\n",
       "      <td>c4ce8709676a6f0b41761093b0da08de72799ba9</td>\n",
       "      <td>1</td>\n",
       "      <td>1</td>\n",
       "      <td>1</td>\n",
       "    </tr>\n",
       "    <tr>\n",
       "      <th>...</th>\n",
       "      <td>...</td>\n",
       "      <td>...</td>\n",
       "      <td>...</td>\n",
       "      <td>...</td>\n",
       "      <td>...</td>\n",
       "    </tr>\n",
       "    <tr>\n",
       "      <th>2690</th>\n",
       "      <td>2690</td>\n",
       "      <td>3eb4b066ab3f25f6454214d33b2fc17161812dfa</td>\n",
       "      <td>0</td>\n",
       "      <td>14</td>\n",
       "      <td>0</td>\n",
       "    </tr>\n",
       "    <tr>\n",
       "      <th>1024</th>\n",
       "      <td>1024</td>\n",
       "      <td>eb41986694a4282d305a2d8b28a1c58c0795988b</td>\n",
       "      <td>0</td>\n",
       "      <td>87</td>\n",
       "      <td>8</td>\n",
       "    </tr>\n",
       "    <tr>\n",
       "      <th>31381</th>\n",
       "      <td>31381</td>\n",
       "      <td>0827b9e97d443781a17a21c64695940675aa1f8a</td>\n",
       "      <td>1</td>\n",
       "      <td>15</td>\n",
       "      <td>7</td>\n",
       "    </tr>\n",
       "    <tr>\n",
       "      <th>9030</th>\n",
       "      <td>9030</td>\n",
       "      <td>c62db10577295ed4dc26fa9acd6e6f30cea7ffd0</td>\n",
       "      <td>0</td>\n",
       "      <td>92</td>\n",
       "      <td>49</td>\n",
       "    </tr>\n",
       "    <tr>\n",
       "      <th>10549</th>\n",
       "      <td>10549</td>\n",
       "      <td>0d3a51e5d279dd2a56c81ba7a81a70128c5a7545</td>\n",
       "      <td>1</td>\n",
       "      <td>4</td>\n",
       "      <td>0</td>\n",
       "    </tr>\n",
       "  </tbody>\n",
       "</table>\n",
       "<p>100 rows × 5 columns</p>\n",
       "</div>"
      ],
      "text/plain": [
       "       Unnamed: 0                               commit_hash  is_buggy_commit  \\\n",
       "6074         6074  cb31827d62066a04b02111df3052949fda4b6888                1   \n",
       "31232       31232  3037f36446eb3556c14757ac468463c3902f331b                1   \n",
       "5242         5242  7c97946d6131b31340954a3f603b6bf92590a9a5                0   \n",
       "8613         8613  b2984add8077ecc9d3cdf0d9294fb323f2001511                0   \n",
       "30056       30056  c4ce8709676a6f0b41761093b0da08de72799ba9                1   \n",
       "...           ...                                       ...              ...   \n",
       "2690         2690  3eb4b066ab3f25f6454214d33b2fc17161812dfa                0   \n",
       "1024         1024  eb41986694a4282d305a2d8b28a1c58c0795988b                0   \n",
       "31381       31381  0827b9e97d443781a17a21c64695940675aa1f8a                1   \n",
       "9030         9030  c62db10577295ed4dc26fa9acd6e6f30cea7ffd0                0   \n",
       "10549       10549  0d3a51e5d279dd2a56c81ba7a81a70128c5a7545                1   \n",
       "\n",
       "       la  ld  \n",
       "6074    6   0  \n",
       "31232  49   0  \n",
       "5242   14   4  \n",
       "8613   19   3  \n",
       "30056   1   1  \n",
       "...    ..  ..  \n",
       "2690   14   0  \n",
       "1024   87   8  \n",
       "31381  15   7  \n",
       "9030   92  49  \n",
       "10549   4   0  \n",
       "\n",
       "[100 rows x 5 columns]"
      ]
     },
     "execution_count": 66,
     "metadata": {},
     "output_type": "execute_result"
    }
   ],
   "source": [
    "df.sample(100)"
   ]
  },
  {
   "cell_type": "code",
   "execution_count": 76,
   "metadata": {},
   "outputs": [],
   "source": [
    "f = 'data/la/by_time/features_test.pkl'\n",
    "import pickle5 as pickle\n",
    "\n",
    "df  = pickle.load(open(f,'rb'))\n",
    "df.to_pickle(f,protocol=4)\n",
    "df.sample(frac=1)\n",
    "f = 'data/la/by_time/features_train.pkl'\n",
    "import pickle5 as pickle\n",
    "\n",
    "df  = pickle.load(open(f,'rb'))\n",
    "df.sample(frac=1)\n",
    "df.to_pickle(f,protocol=4)"
   ]
  },
  {
   "cell_type": "code",
   "execution_count": 77,
   "metadata": {},
   "outputs": [],
   "source": [
    "f = 'data/la/by_time/features_train.pkl'\n",
    "import pickle5 as pickle\n",
    "\n",
    "df  = pickle.load(open(f,'rb'))\n",
    "df = df[['commit_hash',\t'is_buggy_commit',\t'la',\t'ld']]\n",
    "\n",
    "la = df['la']\n",
    "df1 = df[df['is_buggy_commit']==1]\n",
    "df0 = df[df['is_buggy_commit']==0]\n",
    "df = pd.concat((df1,df0.sample(df1.shape[0])))\n",
    "# la = [el if el < 100 else 100 for el in la]\n",
    "df['la'] = la\n",
    "# df = df.sample(1000)\n",
    "df.to_pickle(f,protocol=4)"
   ]
  },
  {
   "cell_type": "code",
   "execution_count": 54,
   "metadata": {},
   "outputs": [
    {
     "data": {
      "text/plain": [
       "100"
      ]
     },
     "execution_count": 54,
     "metadata": {},
     "output_type": "execute_result"
    }
   ],
   "source": [
    "max(df['la'])"
   ]
  },
  {
   "cell_type": "code",
   "execution_count": 68,
   "metadata": {},
   "outputs": [
    {
     "data": {
      "text/html": [
       "<div>\n",
       "<style scoped>\n",
       "    .dataframe tbody tr th:only-of-type {\n",
       "        vertical-align: middle;\n",
       "    }\n",
       "\n",
       "    .dataframe tbody tr th {\n",
       "        vertical-align: top;\n",
       "    }\n",
       "\n",
       "    .dataframe thead th {\n",
       "        text-align: right;\n",
       "    }\n",
       "</style>\n",
       "<table border=\"1\" class=\"dataframe\">\n",
       "  <thead>\n",
       "    <tr style=\"text-align: right;\">\n",
       "      <th></th>\n",
       "      <th>commit_hash</th>\n",
       "      <th>is_buggy_commit</th>\n",
       "      <th>la</th>\n",
       "      <th>ld</th>\n",
       "    </tr>\n",
       "  </thead>\n",
       "  <tbody>\n",
       "    <tr>\n",
       "      <th>3</th>\n",
       "      <td>5e751957ba692658b7f67eb03ae5ddb2cd3d970c</td>\n",
       "      <td>1</td>\n",
       "      <td>6</td>\n",
       "      <td>0</td>\n",
       "    </tr>\n",
       "  </tbody>\n",
       "</table>\n",
       "</div>"
      ],
      "text/plain": [
       "                                commit_hash  is_buggy_commit  la  ld\n",
       "3  5e751957ba692658b7f67eb03ae5ddb2cd3d970c                1   6   0"
      ]
     },
     "execution_count": 68,
     "metadata": {},
     "output_type": "execute_result"
    }
   ],
   "source": [
    "df.head(1)"
   ]
  },
  {
   "cell_type": "code",
   "execution_count": 69,
   "metadata": {},
   "outputs": [
    {
     "data": {
      "text/plain": [
       "(16942, 4)"
      ]
     },
     "execution_count": 69,
     "metadata": {},
     "output_type": "execute_result"
    }
   ],
   "source": [
    "df.shape"
   ]
  },
  {
   "cell_type": "code",
   "execution_count": 60,
   "metadata": {},
   "outputs": [
    {
     "data": {
      "text/plain": [
       "0    723\n",
       "1    277\n",
       "Name: is_buggy_commit, dtype: int64"
      ]
     },
     "execution_count": 60,
     "metadata": {},
     "output_type": "execute_result"
    }
   ],
   "source": [
    "df['is_buggy_commit'].value_counts()"
   ]
  }
 ],
 "metadata": {
  "kernelspec": {
   "display_name": "Python 3",
   "language": "python",
   "name": "python3"
  },
  "language_info": {
   "codemirror_mode": {
    "name": "ipython",
    "version": 3
   },
   "file_extension": ".py",
   "mimetype": "text/x-python",
   "name": "python",
   "nbconvert_exporter": "python",
   "pygments_lexer": "ipython3",
   "version": "3.7.16"
  },
  "orig_nbformat": 4
 },
 "nbformat": 4,
 "nbformat_minor": 2
}
